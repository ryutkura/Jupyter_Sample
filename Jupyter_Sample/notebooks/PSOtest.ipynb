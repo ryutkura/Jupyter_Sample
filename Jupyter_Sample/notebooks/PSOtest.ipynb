{
 "cells": [
  {
   "cell_type": "markdown",
   "metadata": {},
   "source": [
    "### PSOアニメーションのテスト\n",
    "ここのページにPSOの実験結果のファイルからアニメーションを作るためのコードを載せていきたいと思います。  \n",
    "全てのコードはChatGPT(or Copilot)作成のコードがきちんと動作しているかの確認になっていきます。  \n",
    "ただしく実行されていたらひとまず完了としていきます。  \n",
    "場合によってはこのページでDEのアニメーションも作成するかもしれません。  "
   ]
  },
  {
   "cell_type": "code",
   "execution_count": null,
   "metadata": {},
   "outputs": [],
   "source": []
  }
 ],
 "metadata": {
  "kernelspec": {
   "display_name": "Jupyter_Sample",
   "language": "python",
   "name": "newenv"
  },
  "language_info": {
   "name": "python",
   "version": "3.12.3"
  }
 },
 "nbformat": 4,
 "nbformat_minor": 2
}
